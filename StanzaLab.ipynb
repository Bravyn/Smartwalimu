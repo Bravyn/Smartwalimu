{
  "nbformat": 4,
  "nbformat_minor": 0,
  "metadata": {
    "colab": {
      "provenance": [],
      "authorship_tag": "ABX9TyOi7UaKeiUVvreIugXFMaNd",
      "include_colab_link": true
    },
    "kernelspec": {
      "name": "python3",
      "display_name": "Python 3"
    },
    "language_info": {
      "name": "python"
    }
  },
  "cells": [
    {
      "cell_type": "markdown",
      "metadata": {
        "id": "view-in-github",
        "colab_type": "text"
      },
      "source": [
        "<a href=\"https://colab.research.google.com/github/Bravyn/Smartwalimu/blob/main/StanzaLab.ipynb\" target=\"_parent\"><img src=\"https://colab.research.google.com/assets/colab-badge.svg\" alt=\"Open In Colab\"/></a>"
      ]
    },
    {
      "cell_type": "code",
      "execution_count": null,
      "metadata": {
        "id": "0bXgB4A_gGqh"
      },
      "outputs": [],
      "source": [
        "%pip install stanza"
      ]
    },
    {
      "cell_type": "code",
      "source": [
        "import stanza\n",
        "from stanza.models.common.doc import Document\n",
        "stanza.download('en')\n",
        "nlp = stanza.Pipeline('en')\n"
      ],
      "metadata": {
        "id": "JQyNO7IagT3A"
      },
      "execution_count": null,
      "outputs": []
    },
    {
      "cell_type": "code",
      "source": [
        "doc = nlp(\"i hate living in miami.\")"
      ],
      "metadata": {
        "id": "b6npQ761geDM"
      },
      "execution_count": 26,
      "outputs": []
    },
    {
      "cell_type": "code",
      "source": [
        "print(doc.entities[0].text)"
      ],
      "metadata": {
        "colab": {
          "base_uri": "https://localhost:8080/"
        },
        "id": "CPShAnxPg7PZ",
        "outputId": "4e5f8de1-063c-48bc-ce19-38ff2e1a5274"
      },
      "execution_count": 27,
      "outputs": [
        {
          "output_type": "stream",
          "name": "stdout",
          "text": [
            "miami\n"
          ]
        }
      ]
    },
    {
      "cell_type": "code",
      "source": [
        "print(doc.entities[0].type)"
      ],
      "metadata": {
        "colab": {
          "base_uri": "https://localhost:8080/"
        },
        "id": "DVua6IOjg_I9",
        "outputId": "78b83f4a-23f8-4bf6-a2f6-6d8e692605d0"
      },
      "execution_count": 28,
      "outputs": [
        {
          "output_type": "stream",
          "name": "stdout",
          "text": [
            "GPE\n"
          ]
        }
      ]
    },
    {
      "cell_type": "code",
      "source": [
        "print(doc.to_dict())"
      ],
      "metadata": {
        "colab": {
          "base_uri": "https://localhost:8080/"
        },
        "id": "MPnTSGBfhfg2",
        "outputId": "d3b829ff-f976-4766-888a-881ad81f4a10"
      },
      "execution_count": 40,
      "outputs": [
        {
          "output_type": "stream",
          "name": "stdout",
          "text": [
            "[[{'id': 1, 'text': 'i', 'lemma': 'I', 'upos': 'PRON', 'xpos': 'PRP', 'feats': 'Case=Nom|Number=Sing|Person=1|PronType=Prs', 'head': 2, 'deprel': 'nsubj', 'start_char': 0, 'end_char': 1, 'ner': 'O', 'multi_ner': ('O',)}, {'id': 2, 'text': 'hate', 'lemma': 'hate', 'upos': 'VERB', 'xpos': 'VBP', 'feats': 'Mood=Ind|Number=Sing|Person=1|Tense=Pres|VerbForm=Fin', 'head': 0, 'deprel': 'root', 'start_char': 2, 'end_char': 6, 'ner': 'O', 'multi_ner': ('O',)}, {'id': 3, 'text': 'living', 'lemma': 'live', 'upos': 'VERB', 'xpos': 'VBG', 'feats': 'VerbForm=Ger', 'head': 2, 'deprel': 'xcomp', 'start_char': 7, 'end_char': 13, 'ner': 'O', 'multi_ner': ('O',)}, {'id': 4, 'text': 'in', 'lemma': 'in', 'upos': 'ADP', 'xpos': 'IN', 'head': 5, 'deprel': 'case', 'start_char': 14, 'end_char': 16, 'ner': 'O', 'multi_ner': ('O',)}, {'id': 5, 'text': 'miami', 'lemma': 'miami', 'upos': 'PROPN', 'xpos': 'NNP', 'feats': 'Number=Sing', 'head': 3, 'deprel': 'obl', 'start_char': 17, 'end_char': 22, 'ner': 'S-GPE', 'multi_ner': ('S-GPE',)}, {'id': 6, 'text': '.', 'lemma': '.', 'upos': 'PUNCT', 'xpos': '.', 'head': 2, 'deprel': 'punct', 'start_char': 22, 'end_char': 23, 'ner': 'O', 'multi_ner': ('O',)}]]\n"
          ]
        }
      ]
    },
    {
      "cell_type": "code",
      "source": [
        "for i in doc.to_dict()[0]:\n",
        "  print(f\"id : {i['id'] } text: {i['text']}\")\n",
        "\n",
        "\n",
        "\n",
        ""
      ],
      "metadata": {
        "colab": {
          "base_uri": "https://localhost:8080/"
        },
        "id": "rE41iP3cjs-V",
        "outputId": "616d22b2-25d0-4e78-a871-1ba50c4fee96"
      },
      "execution_count": 48,
      "outputs": [
        {
          "output_type": "stream",
          "name": "stdout",
          "text": [
            "id : 1 text: i\n",
            "id : 2 text: hate\n",
            "id : 3 text: living\n",
            "id : 4 text: in\n",
            "id : 5 text: miami\n",
            "id : 6 text: .\n"
          ]
        }
      ]
    },
    {
      "cell_type": "code",
      "source": [
        "print(doc.to_dict()[0][0])"
      ],
      "metadata": {
        "colab": {
          "base_uri": "https://localhost:8080/"
        },
        "id": "cXsxOiKYlwru",
        "outputId": "a9e050bd-1a09-4199-9805-ba08ccc9df94"
      },
      "execution_count": 36,
      "outputs": [
        {
          "output_type": "stream",
          "name": "stdout",
          "text": [
            "{'id': 1, 'text': 'i', 'lemma': 'I', 'upos': 'PRON', 'xpos': 'PRP', 'feats': 'Case=Nom|Number=Sing|Person=1|PronType=Prs', 'head': 2, 'deprel': 'nsubj', 'start_char': 0, 'end_char': 1, 'ner': 'O', 'multi_ner': ('O',)}\n"
          ]
        }
      ]
    },
    {
      "cell_type": "code",
      "source": [
        "print(doc.to_dict()[0][0]['id'])"
      ],
      "metadata": {
        "colab": {
          "base_uri": "https://localhost:8080/"
        },
        "id": "T6XdZQ4_mH6N",
        "outputId": "15dffe9b-0af2-4187-a51e-81c0ff815aea"
      },
      "execution_count": 38,
      "outputs": [
        {
          "output_type": "stream",
          "name": "stdout",
          "text": [
            "1\n"
          ]
        }
      ]
    },
    {
      "cell_type": "code",
      "source": [],
      "metadata": {
        "id": "Mmy_GvEWmN3x"
      },
      "execution_count": null,
      "outputs": []
    }
  ]
}